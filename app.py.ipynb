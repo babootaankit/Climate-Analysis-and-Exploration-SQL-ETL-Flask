{
 "cells": [
  {
   "cell_type": "code",
   "execution_count": 1,
   "metadata": {},
   "outputs": [],
   "source": [
    "import numpy as np\n",
    "import sqlalchemy\n",
    "from sqlalchemy import create_engine, func\n",
    "from sqlalchemy.orm import Session\n",
    "from sqlalchemy.ext.automap import automap_base\n",
    "from flask import Flask, jsonify\n",
    "import datetime as dt"
   ]
  },
  {
   "cell_type": "code",
   "execution_count": 2,
   "metadata": {},
   "outputs": [],
   "source": [
    "engine = create_engine(\"sqlite:///Resources/hawaii.sqlite\")"
   ]
  },
  {
   "cell_type": "code",
   "execution_count": 3,
   "metadata": {},
   "outputs": [],
   "source": [
    "# reflect an existing database into a new model\n",
    "Base = automap_base()\n",
    "\n",
    "# reflect the tables\n",
    "Base.prepare(engine, reflect=True)"
   ]
  },
  {
   "cell_type": "code",
   "execution_count": 4,
   "metadata": {},
   "outputs": [],
   "source": [
    "# Save references to each table\n",
    "Measurement = Base.classes.measurement\n",
    "Station = Base.classes.station"
   ]
  },
  {
   "cell_type": "code",
   "execution_count": 5,
   "metadata": {},
   "outputs": [],
   "source": [
    "session = Session(engine)"
   ]
  },
  {
   "cell_type": "code",
   "execution_count": 6,
   "metadata": {},
   "outputs": [],
   "source": [
    "app = Flask(__name__)"
   ]
  },
  {
   "cell_type": "code",
   "execution_count": 7,
   "metadata": {},
   "outputs": [],
   "source": [
    "def temp_calcs(start_date, end_date): \n",
    "    return session.query(func.min(Measurement.tobs), func.avg(Measurement.tobs), func.max(Measurement.tobs)).\\\n",
    "        filter(Measurement.date >= start_date).filter(Measurement.date <= end_date).all()\n"
   ]
  },
  {
   "cell_type": "code",
   "execution_count": 8,
   "metadata": {},
   "outputs": [],
   "source": [
    "@app.route(\"/\")\n",
    "def main():\n",
    "    return (\n",
    "        f\"Available Routes:<br/>\"\n",
    "        f\"/api/v1.0/precipitation<br/>\"\n",
    "        f\"/api/v1.0/stations<br/>\"\n",
    "        f\"/api/v1.0/tobs<br/>\"\n",
    "        f\"/api/v1.0/<start><br/>\"\n",
    "        f\"/api/v1.0/<start>/<end>\"\n",
    "    )"
   ]
  },
  {
   "cell_type": "code",
   "execution_count": 9,
   "metadata": {},
   "outputs": [],
   "source": [
    "@app.route(\"/api/v1.0/precipitation\")\n",
    "def precipitation():\n",
    "\n",
    "    print(\"Received precipitation api request.\")\n",
    "\n",
    "    final_date_query = session.query(func.max(func.strftime(\"%Y-%m-%d\", Measurement.date))).all()\n",
    "    max_date_string = final_date_query[0][0]\n",
    "    max_date = datetime.datetime.strptime(max_date_string, \"%Y-%m-%d\")\n",
    "\n",
    "    begin_date = max_date - datetime.timedelta(366)\n",
    "\n",
    "    precip_data = session.query(func.strftime(\"%Y-%m-%d\", Measurement.date), Measurement.prcp).\\\n",
    "        filter(func.strftime(\"%Y-%m-%d\", Measurement.date) >= begin_date).all()\n",
    "    \n",
    "    results_dict = {}\n",
    "    for result in precip_data:\n",
    "        results_dict[result[0]] = result[1]\n",
    "\n",
    "    return jsonify(results_dict)"
   ]
  },
  {
   "cell_type": "code",
   "execution_count": 10,
   "metadata": {},
   "outputs": [],
   "source": [
    "@app.route(\"/api/v1.0/stations\")\n",
    "def stations():\n",
    "\n",
    "    print(\"Received station api request.\")\n",
    "\n",
    "    stations_data = session.query(Station).all()\n",
    "\n",
    "    stations_list = []\n",
    "    for station in stations_data:\n",
    "        station_dict = {}\n",
    "        station_dict[\"id\"] = station.id\n",
    "        station_dict[\"station\"] = station.station\n",
    "        station_dict[\"name\"] = station.name\n",
    "        station_dict[\"latitude\"] = station.latitude\n",
    "        station_dict[\"longitude\"] = station.longitude\n",
    "        station_dict[\"elevation\"] = station.elevation\n",
    "        stations_list.append(station_dict)\n",
    "\n",
    "    return jsonify(stations_list)"
   ]
  },
  {
   "cell_type": "code",
   "execution_count": 11,
   "metadata": {},
   "outputs": [],
   "source": [
    "@app.route(\"/api/v1.0/tobs\")\n",
    "def tobs():\n",
    "    \n",
    "    print(\"Received tobs api request.\")\n",
    "\n",
    "    final_date_query = session.query(func.max(func.strftime(\"%Y-%m-%d\", Measurement.date))).all()\n",
    "    max_date_string = final_date_query[0][0]\n",
    "    max_date = datetime.datetime.strptime(max_date_string, \"%Y-%m-%d\")\n",
    "\n",
    "    begin_date = max_date - datetime.timedelta(366)\n",
    "\n",
    "    results = session.query(Measurement).\\\n",
    "        filter(func.strftime(\"%Y-%m-%d\", Measurement.date) >= begin_date).all()\n",
    "\n",
    "    tobs_list = []\n",
    "    for result in results:\n",
    "        tobs_dict = {}\n",
    "        tobs_dict[\"date\"] = result.date\n",
    "        tobs_dict[\"station\"] = result.station\n",
    "        tobs_dict[\"tobs\"] = result.tobs\n",
    "        tobs_list.append(tobs_dict)\n",
    "\n",
    "    return jsonify(tobs_list)"
   ]
  },
  {
   "cell_type": "code",
   "execution_count": 12,
   "metadata": {},
   "outputs": [],
   "source": [
    "@app.route(\"/api/v1.0/<start>\")\n",
    "def start(start):\n",
    "\n",
    "    print(\"Received start date api request.\")\n",
    "\n",
    "    final_date_query = session.query(func.max(func.strftime(\"%Y-%m-%d\", Measurement.date))).all()\n",
    "    max_date = final_date_query[0][0]\n",
    "\n",
    "    temps = calc_temps(start, max_date)\n",
    "\n",
    "    return_list = []\n",
    "    date_dict = {'start_date': start, 'end_date': max_date}\n",
    "    return_list.append(date_dict)\n",
    "    return_list.append({'Observation': 'TMIN', 'Temperature': temps[0][0]})\n",
    "    return_list.append({'Observation': 'TAVG', 'Temperature': temps[0][1]})\n",
    "    return_list.append({'Observation': 'TMAX', 'Temperature': temps[0][2]})\n",
    "\n",
    "    return jsonify(return_list)"
   ]
  },
  {
   "cell_type": "code",
   "execution_count": 13,
   "metadata": {},
   "outputs": [],
   "source": [
    "@app.route(\"/api/v1.0/<start>/<end>\")\n",
    "def start_end(start, end):\n",
    "\n",
    "    print(\"Received start date and end date api request.\")\n",
    "\n",
    "    temps = calc_temps(start, end)\n",
    "\n",
    "    return_list = []\n",
    "    date_dict = {'start_date': start, 'end_date': end}\n",
    "    return_list.append(date_dict)\n",
    "    return_list.append({'Observation': 'TMIN', 'Temperature': temps[0][0]})\n",
    "    return_list.append({'Observation': 'TAVG', 'Temperature': temps[0][1]})\n",
    "    return_list.append({'Observation': 'TMAX', 'Temperature': temps[0][2]})\n",
    "\n",
    "    return jsonify(return_list)"
   ]
  },
  {
   "cell_type": "code",
   "execution_count": 14,
   "metadata": {},
   "outputs": [
    {
     "name": "stdout",
     "output_type": "stream",
     "text": [
      " * Serving Flask app \"__main__\" (lazy loading)\n",
      " * Environment: production\n",
      "   WARNING: This is a development server. Do not use it in a production deployment.\n",
      "   Use a production WSGI server instead.\n",
      " * Debug mode: on\n"
     ]
    },
    {
     "name": "stderr",
     "output_type": "stream",
     "text": [
      " * Restarting with windowsapi reloader\n"
     ]
    },
    {
     "ename": "SystemExit",
     "evalue": "1",
     "output_type": "error",
     "traceback": [
      "An exception has occurred, use %tb to see the full traceback.\n",
      "\u001b[1;31mSystemExit\u001b[0m\u001b[1;31m:\u001b[0m 1\n"
     ]
    },
    {
     "name": "stderr",
     "output_type": "stream",
     "text": [
      "C:\\Users\\baboo\\anaconda3\\envs\\PythonData\\lib\\site-packages\\IPython\\core\\interactiveshell.py:3339: UserWarning: To exit: use 'exit', 'quit', or Ctrl-D.\n",
      "  warn(\"To exit: use 'exit', 'quit', or Ctrl-D.\", stacklevel=1)\n"
     ]
    }
   ],
   "source": [
    "if __name__ == \"__main__\":\n",
    "    app.run(debug = True)"
   ]
  },
  {
   "cell_type": "code",
   "execution_count": null,
   "metadata": {},
   "outputs": [],
   "source": []
  }
 ],
 "metadata": {
  "kernelspec": {
   "display_name": "Python 3",
   "language": "python",
   "name": "python3"
  },
  "language_info": {
   "codemirror_mode": {
    "name": "ipython",
    "version": 3
   },
   "file_extension": ".py",
   "mimetype": "text/x-python",
   "name": "python",
   "nbconvert_exporter": "python",
   "pygments_lexer": "ipython3",
   "version": "3.6.10"
  }
 },
 "nbformat": 4,
 "nbformat_minor": 4
}
